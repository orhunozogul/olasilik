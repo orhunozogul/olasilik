{
  "nbformat": 4,
  "nbformat_minor": 0,
  "metadata": {
    "colab": {
      "name": "Welcome To Colaboratory",
      "provenance": [],
      "collapsed_sections": [],
      "toc_visible": true
    },
    "kernelspec": {
      "display_name": "Python 3",
      "name": "python3"
    }
  },
  "cells": [
    {
      "cell_type": "markdown",
      "metadata": {
        "id": "0uRWRGRIlOon",
        "colab_type": "text"
      },
      "source": [
        "Evinde televizyon izleyen bir bireyin kanal değiştirirken 5 favori kanalının hepsinde reklam olma olasılığı nedir ? (30dk program 7dk reklam)"
      ]
    },
    {
      "cell_type": "markdown",
      "metadata": {
        "id": "b5812DJRoVm0",
        "colab_type": "text"
      },
      "source": [
        "Herhangi bir kanalda reklam olma olasılığı (başarı olasılığı) = p = 7/37 = 0.19\n",
        "\n",
        "Deneme sayısı = n = 5\n",
        "\n",
        "İstenen başarı = x = 5\n",
        "\n",
        "Binomial olasılık = ${n \\choose x}$ ${p^x}$ ${(1-p)^{n-x}}$\n",
        "\n",
        "${5 \\choose 5}$ ${0.19^5}$ ${(1-0.19)^{5-5}} = 0.00024$\n"
      ]
    },
    {
      "cell_type": "code",
      "metadata": {
        "id": "cUINUb5tlvHo",
        "colab_type": "code",
        "colab": {
          "base_uri": "https://localhost:8080/",
          "height": 35
        },
        "outputId": "d20a7582-7cfc-439e-acbe-b7288db9ec03"
      },
      "source": [
        "import math\n",
        "def kombinasyon(n,r):\n",
        "  return math.factorial(n)/(math.factorial(r)*math.factorial(n-r))\n",
        "\n",
        "def binom (n,x,p):\n",
        "  return kombinasyon(n,x)*pow(p,x)*pow((1-p),(n-x))\n",
        "\n",
        "reklam_olasiligi = 7/37\n",
        "print(binom(5,5,reklam_olasiligi))"
      ],
      "execution_count": 20,
      "outputs": [
        {
          "output_type": "stream",
          "text": [
            "0.0002423715162375289\n"
          ],
          "name": "stdout"
        }
      ]
    },
    {
      "cell_type": "markdown",
      "metadata": {
        "id": "uaHG2K8o5PF0",
        "colab_type": "text"
      },
      "source": [
        "Bit uzunlugu ${10^4}$ olan bir mesajdaki, herhangi bitin bagımsız olarak bozulma ihtimali ${10^{-6}}$ dır.Bu mesajın bozulmadan iletilme olasılıgı nedir. "
      ]
    },
    {
      "cell_type": "markdown",
      "metadata": {
        "id": "6dBi6aZh66J9",
        "colab_type": "text"
      },
      "source": [
        "Poisson = $\\frac{{\\lambda}^k}{k!}e^{-\\lambda}$\n",
        "\n",
        "${\\lambda}$ = ${10^4}$ * ${10^{-6}}$ = 0.01\n",
        "\n",
        "k = 0\n",
        "\n",
        "$\\frac{{0.01}^0}{0!}e^{-0.01}$ = 0.99004\n"
      ]
    },
    {
      "cell_type": "code",
      "metadata": {
        "id": "qJgiaGJiwv63",
        "colab_type": "code",
        "colab": {
          "base_uri": "https://localhost:8080/",
          "height": 35
        },
        "outputId": "deb751b8-4764-4e3b-efe5-a2c5c5c290a4"
      },
      "source": [
        "def poisson (n,p,k):\n",
        "  return pow((n*p),k)/math.factorial(k)*math.exp(-1*n*p)\n",
        "\n",
        "print(poisson(pow(10,4),pow(10,-6),0))"
      ],
      "execution_count": 13,
      "outputs": [
        {
          "output_type": "stream",
          "text": [
            "0.9900498337491681\n"
          ],
          "name": "stdout"
        }
      ]
    }
  ]
}