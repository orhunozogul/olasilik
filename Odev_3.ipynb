{
  "nbformat": 4,
  "nbformat_minor": 0,
  "metadata": {
    "colab": {
      "name": "Welcome To Colaboratory",
      "provenance": [],
      "collapsed_sections": [],
      "toc_visible": true
    },
    "kernelspec": {
      "display_name": "Python 3",
      "name": "python3"
    }
  },
  "cells": [
    {
      "cell_type": "markdown",
      "metadata": {
        "id": "FqB-NxbNDWUm",
        "colab_type": "text"
      },
      "source": [
        "Bir şehirde yaşayan insanların %20si yalnız yaşamaktadır. Yalnız yaşayan insanların %60ı yalnız yaşamayanların ise %20si evcil hayvan beslemektedir. Buna göre evcil hayvanı olduğu bilinen birinin yalnız yaşama olasılığı nedir? "
      ]
    },
    {
      "cell_type": "code",
      "metadata": {
        "id": "Ex5hEqHjEvGH",
        "colab_type": "code",
        "colab": {
          "base_uri": "https://localhost:8080/",
          "height": 35
        },
        "outputId": "57105dca-df1d-4038-aac2-c97665e91e2e"
      },
      "source": [
        "yalniz_yasayan_insan = 0.2\n",
        "yalniz_yasamayan_insan = 0.8\n",
        "\n",
        "yalniz_evcil_hayvan_sahibi = yalniz_yasayan_insan*0.6\n",
        "yalniz_olmayan_evcil_hayvan_sahibi = yalniz_yasamayan_insan*0.2\n",
        "\n",
        "evcil_hayvan_sahibi = yalniz_evcil_hayvan_sahibi + yalniz_olmayan_evcil_hayvan_sahibi\n",
        "\n",
        "ornek_uzay = evcil_hayvan_sahibi\n",
        "olay_uzayi = yalniz_evcil_hayvan_sahibi\n",
        "\n",
        "print(olay_uzayi/ornek_uzay)"
      ],
      "execution_count": 3,
      "outputs": [
        {
          "output_type": "stream",
          "text": [
            "0.4285714285714285\n"
          ],
          "name": "stdout"
        }
      ]
    },
    {
      "cell_type": "markdown",
      "metadata": {
        "id": "wy79z4DIMxi3",
        "colab_type": "text"
      },
      "source": [
        "Bayes teoremine göre;\n",
        "\n",
        "P(A|B) = $\\frac{P(A \\cap B)}{P(B)}$\n",
        "\n",
        "Yukarıdaki probleme uyarlayacak olursak;\n",
        "\n",
        "P(B) = evcil hayvan sahibi olma olasılığı\n",
        "\n",
        "P(B) = $0.2 \\times 0.6$ + $0.8 \\times 0.2$ = 0.28\n",
        "\n",
        "$P(A \\cap B)$ = Yalnız evcil hayvan sahipleri = $0.2 \\times 0.6$ = 0.12\n",
        "\n",
        "$\\frac{P(A \\cap B)}{P(B)}$ = $\\frac{0.12}{0.28}$ = 0.4285714285714285"
      ]
    }
  ]
}
