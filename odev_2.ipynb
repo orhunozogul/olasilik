{
  "nbformat": 4,
  "nbformat_minor": 0,
  "metadata": {
    "colab": {
      "name": "Welcome To Colaboratory",
      "provenance": [],
      "collapsed_sections": [],
      "toc_visible": true,
      "include_colab_link": true
    },
    "kernelspec": {
      "display_name": "Python 3",
      "name": "python3"
    }
  },
  "cells": [
    {
      "cell_type": "markdown",
      "metadata": {
        "id": "view-in-github",
        "colab_type": "text"
      },
      "source": [
        "<a href=\"https://colab.research.google.com/github/orhunozogul/olasilik/blob/master/odev_2.ipynb\" target=\"_parent\"><img src=\"https://colab.research.google.com/assets/colab-badge.svg\" alt=\"Open In Colab\"/></a>"
      ]
    },
    {
      "cell_type": "markdown",
      "metadata": {
        "id": "OFl_s-5WeYmt",
        "colab_type": "text"
      },
      "source": [
        "Bir markette çalışan 15 görevliden 3ü bulaşıcı hastalığa sahiptir. 2 farklı görevliyle temasa geçen bir müşterinin hastalık kapma ihtimali nedir ? "
      ]
    },
    {
      "cell_type": "code",
      "metadata": {
        "id": "_e-ZXTP-ep3k",
        "colab_type": "code",
        "colab": {
          "base_uri": "https://localhost:8080/",
          "height": 35
        },
        "outputId": "153e3a6a-076e-4753-dac1-c83c75fa5b21"
      },
      "source": [
        "def faktoriyel(num):\n",
        "  if num==0:\n",
        "    return 1\n",
        "  else:\n",
        "    faktoriyel = 1\n",
        "    for i in range(1,num + 1):\n",
        "      faktoriyel = faktoriyel*i\n",
        "  return faktoriyel\n",
        "\n",
        "\n",
        "def kombinasyon(n,r):\n",
        "  return faktoriyel(n)/(faktoriyel(r)*faktoriyel(n-r))\n",
        "\n",
        "#Hastalık kapma olasılığı = 1 - hastalık kapmama olasılığı\n",
        "\n",
        "olay_uzayi = kombinasyon(12,2) # hasta olmayan görevlilerden 2 tane seçilmesi\n",
        "ornek_uzay = kombinasyon(15,2) # tüm görevlilerden 2 tane seçilmesi\n",
        "print(1-olay_uzayi/ornek_uzay)"
      ],
      "execution_count": 61,
      "outputs": [
        {
          "output_type": "stream",
          "text": [
            "0.37142857142857144\n"
          ],
          "name": "stdout"
        }
      ]
    },
    {
      "cell_type": "markdown",
      "metadata": {
        "id": "W95VDj94y3wC",
        "colab_type": "text"
      },
      "source": [
        ""
      ]
    }
  ]
}