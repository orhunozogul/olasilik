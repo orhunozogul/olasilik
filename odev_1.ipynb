{
  "nbformat": 4,
  "nbformat_minor": 0,
  "metadata": {
    "colab": {
      "name": "Welcome To Colaboratory",
      "provenance": [],
      "collapsed_sections": [],
      "toc_visible": true,
      "include_colab_link": true
    },
    "kernelspec": {
      "display_name": "Python 3",
      "name": "python3"
    }
  },
  "cells": [
    {
      "cell_type": "markdown",
      "metadata": {
        "id": "view-in-github",
        "colab_type": "text"
      },
      "source": [
        "<a href=\"https://colab.research.google.com/github/orhunozogul/olasilik/blob/master/odev_1.ipynb\" target=\"_parent\"><img src=\"https://colab.research.google.com/assets/colab-badge.svg\" alt=\"Open In Colab\"/></a>"
      ]
    },
    {
      "cell_type": "markdown",
      "metadata": {
        "id": "PbZn_W3bAdpj",
        "colab_type": "text"
      },
      "source": [
        "Dıolabını düzenlemek isteyen biri 5 gömlek 7 tişört ve 4 pantolonu aynı tipler bir arada olacak şekilde kaç farklı şekilde dizebilir?\n",
        "\n",
        "---\n",
        "\n"
      ]
    },
    {
      "cell_type": "code",
      "metadata": {
        "id": "h7T57bp6AJ9p",
        "colab_type": "code",
        "colab": {
          "base_uri": "https://localhost:8080/",
          "height": 35
        },
        "outputId": "35cca29f-3424-4e53-a8a0-38d44ec4428e"
      },
      "source": [
        "from pylab import *\n",
        "import numpy as np\n",
        "gomlek = math.factorial(5)\n",
        "tisort = math.factorial(7)\n",
        "pantolon = math.factorial(4)\n",
        "\n",
        "tiplerin_siralanmasi = math.factorial(3)\n",
        "print(gomlek*tisort*pantolon*tiplerin_siralanmasi)"
      ],
      "execution_count": 14,
      "outputs": [
        {
          "output_type": "stream",
          "text": [
            "87091200\n"
          ],
          "name": "stdout"
        }
      ]
    },
    {
      "cell_type": "markdown",
      "metadata": {
        "id": "d_eHhzm_LdYD",
        "colab_type": "text"
      },
      "source": [
        "gömlekler kendi içinde 5! şekilde sıralanabilir,\n",
        "tişörtler kendi içinde 7! şekilde sıralanabilir,\n",
        "pantolonlar kendi içinde 4! şekilde sıralanabilir,\n",
        "ve bunların hepsi birlikte 3! şekilde sıralanabilir;\n",
        "\n",
        "5!* 7! * 4! * 3! = 87091200"
      ]
    }
  ]
}