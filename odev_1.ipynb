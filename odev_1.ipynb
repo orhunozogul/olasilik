{
  "nbformat": 4,
  "nbformat_minor": 0,
  "metadata": {
    "colab": {
      "name": "Welcome To Colaboratory",
      "provenance": [],
      "collapsed_sections": [],
      "toc_visible": true
    },
    "kernelspec": {
      "display_name": "Python 3",
      "name": "python3"
    }
  },
  "cells": [
    {
      "cell_type": "markdown",
      "metadata": {
        "id": "PbZn_W3bAdpj",
        "colab_type": "text"
      },
      "source": [
        "Dıolabını düzenlemek isteyen biri 5 gömlek 7 tişört ve 4 pantolonu aynı tipler bir arada olacak şekilde kaç farklı şekilde dizebilir?\n",
        "\n",
        "---\n",
        "\n"
      ]
    },
    {
      "cell_type": "code",
      "metadata": {
        "id": "h7T57bp6AJ9p",
        "colab_type": "code",
        "colab": {
          "base_uri": "https://localhost:8080/",
          "height": 35
        },
        "outputId": "47377aff-bdf9-4d95-bb55-2e6a9616825c"
      },
      "source": [
        "from pylab import *\n",
        "import numpy as np\n",
        "gomlek = math.factorial(5)\n",
        "tisort = math.factorial(7)\n",
        "pantolon = math.factorial(4)\n",
        "\n",
        "tiplerin_siralanmasi = math.factorial(3)\n",
        "print(gomlek*tisort*pantolon*tiplerin_siralanmasi)"
      ],
      "execution_count": 9,
      "outputs": [
        {
          "output_type": "stream",
          "text": [
            "87091200\n"
          ],
          "name": "stdout"
        }
      ]
    }
  ]
}